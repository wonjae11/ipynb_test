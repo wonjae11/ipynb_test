{
 "cells": [
  {
   "cell_type": "code",
   "execution_count": 13,
   "id": "c08d2f27-d7d3-4def-8903-b58e66cca688",
   "metadata": {},
   "outputs": [
    {
     "name": "stdout",
     "output_type": "stream",
     "text": [
      "Hello World\n"
     ]
    }
   ],
   "source": [
    "print(\"Hello World\")"
   ]
  },
  {
   "cell_type": "code",
   "execution_count": 1,
   "id": "fa57a24f-a3b3-4ee1-81a4-01825f045a8b",
   "metadata": {},
   "outputs": [
    {
     "name": "stdout",
     "output_type": "stream",
     "text": [
      "asdf\n"
     ]
    }
   ],
   "source": [
    "print(\"asdf\")"
   ]
  },
  {
   "cell_type": "code",
   "execution_count": 2,
   "id": "953c0f10",
   "metadata": {},
   "outputs": [],
   "source": [
    "a = 1"
   ]
  },
  {
   "cell_type": "code",
   "execution_count": 3,
   "id": "2b25e1f3",
   "metadata": {},
   "outputs": [
    {
     "data": {
      "text/plain": [
       "1"
      ]
     },
     "execution_count": 3,
     "metadata": {},
     "output_type": "execute_result"
    }
   ],
   "source": [
    "a"
   ]
  },
  {
   "cell_type": "code",
   "execution_count": 4,
   "id": "3220032f",
   "metadata": {},
   "outputs": [],
   "source": [
    "b = [1,2,3,\n",
    "4,5]"
   ]
  },
  {
   "cell_type": "code",
   "execution_count": 5,
   "id": "437aa3c8",
   "metadata": {},
   "outputs": [
    {
     "data": {
      "text/plain": [
       "[1, 2, 3, 4, 5]"
      ]
     },
     "execution_count": 5,
     "metadata": {},
     "output_type": "execute_result"
    }
   ],
   "source": [
    "b"
   ]
  },
  {
   "cell_type": "code",
   "execution_count": 1,
   "id": "63dbe4a1",
   "metadata": {},
   "outputs": [
    {
     "name": "stdout",
     "output_type": "stream",
     "text": [
      "문제 1\n",
      "garlic\n",
      "통과!\n",
      "문제 2\n",
      "earth\n",
      "통과!\n",
      "문제 3\n",
      "moon\n",
      "통과!\n",
      "문제 4\n",
      "onion\n",
      "통과!\n",
      "문제 5\n",
      "sky\n",
      "통과!\n",
      "문제 6\n",
      "potato\n",
      "통과!\n",
      "문제 7\n",
      "earth\n",
      "통과!\n",
      "문제 8\n",
      "sky\n",
      "통과!\n",
      "문제 9\n",
      "potato\n",
      "통과!\n",
      "문제 10\n",
      "potato\n",
      "통과!\n",
      "타자시간:  20.12초\n"
     ]
    }
   ],
   "source": [
    "import random\n",
    "import time\n",
    "\n",
    "word = ['sky','earth','moon','flower','tree','apple','grape','garlic','onion','potato']\n",
    "n = 1\n",
    "\n",
    "input(\"[타자 게임] 준비되면 엔터!\")\n",
    "start = time.time()\n",
    "\n",
    "while n < 11:\n",
    "    print(\"문제\", n)\n",
    "    question = random.choice(word)\n",
    "    print(question)\n",
    "    user = input()\n",
    "    if question == user:\n",
    "        print(\"통과!\")\n",
    "        n += 1\n",
    "    else:\n",
    "        print(\"오타! 다시 도전!\")\n",
    "\n",
    "end = time.time()\n",
    "et = end - start\n",
    "print(f'타자시간: {et: .2f}초')"
   ]
  },
  {
   "cell_type": "code",
   "execution_count": 5,
   "id": "b455852d",
   "metadata": {},
   "outputs": [
    {
     "name": "stdout",
     "output_type": "stream",
     "text": [
      "[3 1 2]\n",
      "<class 'numpy.ndarray'>\n"
     ]
    }
   ],
   "source": [
    "import numpy as np\n",
    "x = np.array([3, 1, 2])\n",
    "print(x)\n",
    "print(type(x))"
   ]
  },
  {
   "cell_type": "code",
   "execution_count": 13,
   "id": "910a133f",
   "metadata": {},
   "outputs": [
    {
     "name": "stdout",
     "output_type": "stream",
     "text": [
      "1 1\n",
      "1 2\n"
     ]
    }
   ],
   "source": [
    "c = [[1],[1,2]]\n",
    "d = np.array([[1,1],[1,2]])\n",
    "\n",
    "for x, y in d:\n",
    "    print(x, y)"
   ]
  },
  {
   "cell_type": "code",
   "execution_count": 14,
   "id": "733b2ec6",
   "metadata": {},
   "outputs": [
    {
     "name": "stdout",
     "output_type": "stream",
     "text": [
      " C ����̺��� �������� �̸��� �����ϴ�.\n",
      " ���� �Ϸ� ��ȣ: FE35-8493\n",
      "\n",
      " c:\\Users\\admin\\anacondatest ���͸�\n",
      "\n",
      "2024-12-13  ���� 12:10    <DIR>          .\n",
      "2024-12-13  ���� 11:54    <DIR>          ..\n",
      "2024-12-13  ���� 11:56    <DIR>          .ipynb_checkpoints\n",
      "2024-12-13  ���� 12:10             3,668 test.ipynb\n",
      "               1�� ����               3,668 ����Ʈ\n",
      "               3�� ���͸�  38,357,037,056 ����Ʈ ����\n"
     ]
    }
   ],
   "source": [
    "%ls"
   ]
  },
  {
   "cell_type": "code",
   "execution_count": 15,
   "id": "15267981",
   "metadata": {},
   "outputs": [
    {
     "name": "stdout",
     "output_type": "stream",
     "text": [
      "Requirement already satisfied: numpy in c:\\users\\admin\\anaconda3\\lib\\site-packages (1.26.4)\n",
      "Note: you may need to restart the kernel to use updated packages.\n"
     ]
    }
   ],
   "source": [
    "%pip install numpy"
   ]
  },
  {
   "cell_type": "code",
   "execution_count": 16,
   "id": "77a98910",
   "metadata": {},
   "outputs": [
    {
     "data": {
      "text/plain": [
       "[1, 3, 5, 2, 4, 6]"
      ]
     },
     "execution_count": 16,
     "metadata": {},
     "output_type": "execute_result"
    }
   ],
   "source": [
    "list1 = [1,3,5]\n",
    "list2 = [2,4,6]\n",
    "list1 + list2"
   ]
  },
  {
   "cell_type": "code",
   "execution_count": 17,
   "id": "c62da81a",
   "metadata": {},
   "outputs": [
    {
     "data": {
      "text/plain": [
       "array([ 3,  7, 11])"
      ]
     },
     "execution_count": 17,
     "metadata": {},
     "output_type": "execute_result"
    }
   ],
   "source": [
    "ndarray1 = np.array([1,3,5])\n",
    "ndarray2 = np.array([2,4,6])\n",
    "ndarray1 + ndarray2"
   ]
  },
  {
   "cell_type": "code",
   "execution_count": 20,
   "id": "d403ae67",
   "metadata": {},
   "outputs": [
    {
     "name": "stdout",
     "output_type": "stream",
     "text": [
      "[3. 6. 9.]\n",
      "[-1. -2. -3.]\n",
      "[ 2.  8. 18.]\n",
      "[0.5 0.5 0.5]\n"
     ]
    }
   ],
   "source": [
    "x = np.array([1.0, 2.0, 3.0])\n",
    "y = np.array([2.0, 4.0, 6.0])\n",
    "print(x+y)\n",
    "print(x-y)\n",
    "print(x*y)\n",
    "print(x/y)"
   ]
  },
  {
   "cell_type": "code",
   "execution_count": 24,
   "id": "35bb673f",
   "metadata": {},
   "outputs": [
    {
     "name": "stdout",
     "output_type": "stream",
     "text": [
      "(3,)\n",
      "float64\n",
      "(2, 2)\n",
      "[1. 2. 3.]\n"
     ]
    }
   ],
   "source": [
    "print(x.shape)\n",
    "print(x.dtype)\n",
    "print(d.shape)\n",
    "print(y/2.0)"
   ]
  },
  {
   "cell_type": "code",
   "execution_count": null,
   "id": "b0b0e757",
   "metadata": {},
   "outputs": [
    {
     "data": {
      "text/plain": [
       "2"
      ]
     },
     "execution_count": 26,
     "metadata": {},
     "output_type": "execute_result"
    }
   ],
   "source": [
    "ndarray6 = np.array([[1,2,3],[4,5,6]])\n",
    "ndarray6.ndim"
   ]
  },
  {
   "cell_type": "code",
   "execution_count": 35,
   "id": "ab7b0794",
   "metadata": {},
   "outputs": [
    {
     "data": {
      "text/plain": [
       "(2, 3)"
      ]
     },
     "execution_count": 35,
     "metadata": {},
     "output_type": "execute_result"
    }
   ],
   "source": [
    "ndarray6.shape"
   ]
  },
  {
   "cell_type": "code",
   "execution_count": 39,
   "id": "6c03ff8d",
   "metadata": {},
   "outputs": [
    {
     "name": "stdout",
     "output_type": "stream",
     "text": [
      "(3, 2, 2)\n"
     ]
    }
   ],
   "source": [
    "a = np.array([[[1,2],[2,2]],[[3,2],[4,2]],[[5,2],[6,2]]])\n",
    "print(a.shape)"
   ]
  },
  {
   "cell_type": "code",
   "execution_count": 3,
   "id": "ca044ac3",
   "metadata": {},
   "outputs": [],
   "source": [
    "import numpy as np"
   ]
  },
  {
   "cell_type": "code",
   "execution_count": 4,
   "id": "34206c50",
   "metadata": {},
   "outputs": [
    {
     "data": {
      "text/plain": [
       "8"
      ]
     },
     "execution_count": 4,
     "metadata": {},
     "output_type": "execute_result"
    }
   ],
   "source": [
    "np.dot(4, 2)"
   ]
  },
  {
   "cell_type": "code",
   "execution_count": 6,
   "id": "382d6512",
   "metadata": {},
   "outputs": [
    {
     "data": {
      "text/plain": [
       "24"
      ]
     },
     "execution_count": 6,
     "metadata": {},
     "output_type": "execute_result"
    }
   ],
   "source": [
    "ndar1 = np.array([3,2])\n",
    "ndar2 = np.array([4,6])\n",
    "np.dot(ndar1,ndar2)"
   ]
  },
  {
   "cell_type": "code",
   "execution_count": 8,
   "id": "2f9b1ed3",
   "metadata": {},
   "outputs": [
    {
     "data": {
      "text/plain": [
       "array([[ 7, 10],\n",
       "       [15, 22]])"
      ]
     },
     "execution_count": 8,
     "metadata": {},
     "output_type": "execute_result"
    }
   ],
   "source": [
    "ndar1 = np.array([[1,2],[3,4]])\n",
    "ndar2 = np.array([[1,2],[3,4]])\n",
    "np.dot(ndar1,ndar2)"
   ]
  },
  {
   "cell_type": "code",
   "execution_count": 9,
   "id": "6dc41e2b",
   "metadata": {},
   "outputs": [
    {
     "data": {
      "text/plain": [
       "array([[ 7, 10],\n",
       "       [15, 22]])"
      ]
     },
     "execution_count": 9,
     "metadata": {},
     "output_type": "execute_result"
    }
   ],
   "source": [
    "np.matmul(ndar1,ndar2)"
   ]
  },
  {
   "cell_type": "code",
   "execution_count": 11,
   "id": "c76d13e0",
   "metadata": {},
   "outputs": [
    {
     "data": {
      "text/plain": [
       "array([[ 7, 10]])"
      ]
     },
     "execution_count": 11,
     "metadata": {},
     "output_type": "execute_result"
    }
   ],
   "source": [
    "ndar1 = np.array([[1,2]])\n",
    "ndar2 = np.array([[1,2],[3,4]])\n",
    "np.matmul(ndar1,ndar2)"
   ]
  },
  {
   "cell_type": "code",
   "execution_count": 15,
   "id": "08316ee4",
   "metadata": {},
   "outputs": [
    {
     "name": "stdout",
     "output_type": "stream",
     "text": [
      "(2, 2, 1)\n",
      "3\n",
      "1\n",
      "[[[1]\n",
      "  [2]]\n",
      "\n",
      " [[3]\n",
      "  [4]]]\n"
     ]
    }
   ],
   "source": [
    "ndar2 = np.array([[[1],[2]],[[3],[4]]])\n",
    "print(ndar2.shape)\n",
    "print(ndar2.ndim)\n",
    "a = ndar2.flatten()\n",
    "print(a.ndim)\n",
    "print(ndar2)"
   ]
  },
  {
   "cell_type": "code",
   "execution_count": 19,
   "id": "06391625",
   "metadata": {},
   "outputs": [
    {
     "data": {
      "text/plain": [
       "array([[1, 2, 2],\n",
       "       [3, 3, 4]])"
      ]
     },
     "execution_count": 19,
     "metadata": {},
     "output_type": "execute_result"
    }
   ],
   "source": [
    "ndarr = np.array([[1,2],[2,3],[3,4]])\n",
    "ndarr.reshape(2,3)"
   ]
  },
  {
   "cell_type": "code",
   "execution_count": 20,
   "id": "42b6f6e8",
   "metadata": {},
   "outputs": [
    {
     "data": {
      "text/plain": [
       "array([[1],\n",
       "       [2],\n",
       "       [2],\n",
       "       [3],\n",
       "       [3],\n",
       "       [4]])"
      ]
     },
     "execution_count": 20,
     "metadata": {},
     "output_type": "execute_result"
    }
   ],
   "source": [
    "ndarr.reshape(6,1)"
   ]
  },
  {
   "cell_type": "code",
   "execution_count": 21,
   "id": "e280f98b",
   "metadata": {},
   "outputs": [
    {
     "data": {
      "text/plain": [
       "array([[1, 2, 2, 3, 3, 4]])"
      ]
     },
     "execution_count": 21,
     "metadata": {},
     "output_type": "execute_result"
    }
   ],
   "source": [
    "ndarr.reshape(1,6)"
   ]
  },
  {
   "cell_type": "code",
   "execution_count": 22,
   "id": "af2665e7",
   "metadata": {},
   "outputs": [
    {
     "data": {
      "text/plain": [
       "array([[3, 4, 4, 4],\n",
       "       [4, 3, 3, 0]])"
      ]
     },
     "execution_count": 22,
     "metadata": {},
     "output_type": "execute_result"
    }
   ],
   "source": [
    "np.random.randint(5, size=(2,4))"
   ]
  },
  {
   "cell_type": "code",
   "execution_count": 23,
   "id": "5a34aba9",
   "metadata": {},
   "outputs": [
    {
     "data": {
      "text/plain": [
       "array([[0.65161544, 0.22628789, 0.7807272 , 0.99456305],\n",
       "       [0.57733362, 0.68579629, 0.3889024 , 0.78121169]])"
      ]
     },
     "execution_count": 23,
     "metadata": {},
     "output_type": "execute_result"
    }
   ],
   "source": [
    "np.random.rand(2,4)"
   ]
  },
  {
   "cell_type": "code",
   "execution_count": 24,
   "id": "3a91a3bc",
   "metadata": {},
   "outputs": [],
   "source": [
    "rng = np.random.default_rng()"
   ]
  },
  {
   "cell_type": "code",
   "execution_count": 25,
   "id": "460b78a3",
   "metadata": {},
   "outputs": [
    {
     "data": {
      "text/plain": [
       "0.37447771465317414"
      ]
     },
     "execution_count": 25,
     "metadata": {},
     "output_type": "execute_result"
    }
   ],
   "source": [
    "rng.random()"
   ]
  },
  {
   "cell_type": "code",
   "execution_count": 27,
   "id": "09b663da",
   "metadata": {},
   "outputs": [
    {
     "data": {
      "text/plain": [
       "array([[4, 4, 5, 2],\n",
       "       [2, 9, 7, 0]], dtype=int64)"
      ]
     },
     "execution_count": 27,
     "metadata": {},
     "output_type": "execute_result"
    }
   ],
   "source": [
    "rng.integers(0, 10, (2,4))"
   ]
  },
  {
   "cell_type": "code",
   "execution_count": 30,
   "id": "5a3b4831",
   "metadata": {},
   "outputs": [
    {
     "data": {
      "text/plain": [
       "array([[ True, False],\n",
       "       [ True, False],\n",
       "       [ True, False]])"
      ]
     },
     "execution_count": 30,
     "metadata": {},
     "output_type": "execute_result"
    }
   ],
   "source": [
    "ndarr = np.array([[6,3],[5,2],[4,1]])\n",
    "ndarr>3"
   ]
  },
  {
   "cell_type": "code",
   "execution_count": 32,
   "id": "b6631698",
   "metadata": {},
   "outputs": [
    {
     "data": {
      "text/plain": [
       "array([6, 5, 4])"
      ]
     },
     "execution_count": 32,
     "metadata": {},
     "output_type": "execute_result"
    }
   ],
   "source": [
    "ndarr = np.array([[6,3],[5,2],[4,1]])\n",
    "ndarr[ndarr>3]"
   ]
  },
  {
   "cell_type": "code",
   "execution_count": 37,
   "id": "09ac01e6",
   "metadata": {},
   "outputs": [
    {
     "data": {
      "text/plain": [
       "array([6, 5, 4])"
      ]
     },
     "execution_count": 37,
     "metadata": {},
     "output_type": "execute_result"
    }
   ],
   "source": [
    "ndarr[[[ True, False],\n",
    "       [ True, False],\n",
    "       [ True, False]]]"
   ]
  },
  {
   "cell_type": "code",
   "execution_count": null,
   "id": "4c661fc2",
   "metadata": {},
   "outputs": [],
   "source": []
  }
 ],
 "metadata": {
  "kernelspec": {
   "display_name": "Python [conda env:base] *",
   "language": "python",
   "name": "conda-base-py"
  },
  "language_info": {
   "codemirror_mode": {
    "name": "ipython",
    "version": 3
   },
   "file_extension": ".py",
   "mimetype": "text/x-python",
   "name": "python",
   "nbconvert_exporter": "python",
   "pygments_lexer": "ipython3",
   "version": "3.12.7"
  }
 },
 "nbformat": 4,
 "nbformat_minor": 5
}
